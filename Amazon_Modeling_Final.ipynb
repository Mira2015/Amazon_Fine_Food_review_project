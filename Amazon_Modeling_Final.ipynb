{
 "cells": [
  {
   "cell_type": "markdown",
   "metadata": {},
   "source": [
    "# Amazon Find Food Reviews Modeling"
   ]
  },
  {
   "attachments": {},
   "cell_type": "markdown",
   "metadata": {},
   "source": [
    "### Modeling Framework\n",
    "**1. Preprocess the data** <br>\n",
    "**2. Split dataset into 80% training, 20% validation , 20% testing**<br>\n",
    "**3. Creat sample pipeline for text feature extraction and evaluation**<br>\n",
    "**4. Training different algorithms: Naive Bayes, Logistic Regression, Support Vector Machine (SVM) , Random Forest and Ada-boost classifier.  **<br>\n",
    "**5. Model Eveulation and validation on the validation data set **<br>\n",
    "**6. Use a grid search with cross validation to optimize on the hyperparameters of select algorithm.**<br>\n",
    "**7. Test the accuracy of the model on the testing set.**\n",
    "\n",
    "![alt](modlig processes copy.png)"
   ]
  },
  {
   "cell_type": "code",
   "execution_count": 1,
   "metadata": {},
   "outputs": [],
   "source": [
    "%matplotlib inline\n",
    "import numpy as np \n",
    "import pandas as pd \n",
    "from pandas import Series, DataFrame, datetime\n",
    "from datetime import datetime, timedelta, time\n",
    "from sklearn.model_selection import train_test_split\n",
    "import nltk\n",
    "import string\n",
    "import matplotlib.pyplot as plt\n",
    "\n",
    "# A size for figures\n",
    "FIG_SIZE = (10,8)\n",
    "# random state for classifiers\n",
    "RAN_STATE = 42\n",
    "pd.set_option('display.height', 1000)\n",
    "pd.set_option('display.max_rows', 500)\n",
    "pd.set_option('display.max_columns', 500)\n",
    "pd.set_option('display.width', 1000)"
   ]
  },
  {
   "cell_type": "code",
   "execution_count": 6,
   "metadata": {},
   "outputs": [
    {
     "data": {
      "text/plain": [
       "(568412, 21)"
      ]
     },
     "execution_count": 6,
     "metadata": {},
     "output_type": "execute_result"
    }
   ],
   "source": [
    "# load data \n",
    "df = pd.read_csv('amazon_clean.csv')\n",
    "df.shape"
   ]
  },
  {
   "cell_type": "code",
   "execution_count": 7,
   "metadata": {},
   "outputs": [
    {
     "data": {
      "text/html": [
       "<div>\n",
       "<style scoped>\n",
       "    .dataframe tbody tr th:only-of-type {\n",
       "        vertical-align: middle;\n",
       "    }\n",
       "\n",
       "    .dataframe tbody tr th {\n",
       "        vertical-align: top;\n",
       "    }\n",
       "\n",
       "    .dataframe thead th {\n",
       "        text-align: right;\n",
       "    }\n",
       "</style>\n",
       "<table border=\"1\" class=\"dataframe\">\n",
       "  <thead>\n",
       "    <tr style=\"text-align: right;\">\n",
       "      <th></th>\n",
       "      <th>Id</th>\n",
       "      <th>ProductId</th>\n",
       "      <th>UserId</th>\n",
       "      <th>ProfileName</th>\n",
       "      <th>HelpfulnessNumerator</th>\n",
       "      <th>HelpfulnessDenominator</th>\n",
       "      <th>Score</th>\n",
       "      <th>Time</th>\n",
       "      <th>Summary</th>\n",
       "      <th>Text</th>\n",
       "      <th>date_time</th>\n",
       "      <th>date</th>\n",
       "      <th>date1</th>\n",
       "      <th>year</th>\n",
       "      <th>Helpful_pct</th>\n",
       "      <th>help1</th>\n",
       "      <th>Summary1</th>\n",
       "      <th>text_Clean1</th>\n",
       "      <th>text_Clean2</th>\n",
       "      <th>word_cnt</th>\n",
       "      <th>Helpful</th>\n",
       "    </tr>\n",
       "  </thead>\n",
       "  <tbody>\n",
       "    <tr>\n",
       "      <th>0</th>\n",
       "      <td>1</td>\n",
       "      <td>B001E4KFG0</td>\n",
       "      <td>A3SGXH7AUHU8GW</td>\n",
       "      <td>delmartian</td>\n",
       "      <td>1</td>\n",
       "      <td>1</td>\n",
       "      <td>5</td>\n",
       "      <td>1303862400</td>\n",
       "      <td>Good Quality Dog Food</td>\n",
       "      <td>I have bought several of the Vitality canned d...</td>\n",
       "      <td>2011-04-27</td>\n",
       "      <td>2011-04-27</td>\n",
       "      <td>2011-04-27</td>\n",
       "      <td>2011</td>\n",
       "      <td>1.0</td>\n",
       "      <td>75</td>\n",
       "      <td>good quality dog food</td>\n",
       "      <td>I have bought several of the Vitality canned d...</td>\n",
       "      <td>bought several vitality canned dog food produc...</td>\n",
       "      <td>48</td>\n",
       "      <td>1</td>\n",
       "    </tr>\n",
       "    <tr>\n",
       "      <th>1</th>\n",
       "      <td>2</td>\n",
       "      <td>B00813GRG4</td>\n",
       "      <td>A1D87F6ZCVE5NK</td>\n",
       "      <td>dll pa</td>\n",
       "      <td>0</td>\n",
       "      <td>0</td>\n",
       "      <td>1</td>\n",
       "      <td>1346976000</td>\n",
       "      <td>Not as Advertised</td>\n",
       "      <td>Product arrived labeled as Jumbo Salted Peanut...</td>\n",
       "      <td>2012-09-07</td>\n",
       "      <td>2012-09-07</td>\n",
       "      <td>2012-09-07</td>\n",
       "      <td>2012</td>\n",
       "      <td>0.0</td>\n",
       "      <td>0</td>\n",
       "      <td>advertised</td>\n",
       "      <td>Product arrived labeled as Jumbo Salted Peanut...</td>\n",
       "      <td>product arrived labeled jumbo salted peanut pe...</td>\n",
       "      <td>31</td>\n",
       "      <td>0</td>\n",
       "    </tr>\n",
       "  </tbody>\n",
       "</table>\n",
       "</div>"
      ],
      "text/plain": [
       "   Id   ProductId          UserId ProfileName  HelpfulnessNumerator  HelpfulnessDenominator  Score        Time                Summary                                               Text   date_time        date       date1  year  Helpful_pct  help1               Summary1                                        text_Clean1                                        text_Clean2  word_cnt  Helpful\n",
       "0   1  B001E4KFG0  A3SGXH7AUHU8GW  delmartian                     1                       1      5  1303862400  Good Quality Dog Food  I have bought several of the Vitality canned d...  2011-04-27  2011-04-27  2011-04-27  2011          1.0     75  good quality dog food  I have bought several of the Vitality canned d...  bought several vitality canned dog food produc...        48        1\n",
       "1   2  B00813GRG4  A1D87F6ZCVE5NK      dll pa                     0                       0      1  1346976000      Not as Advertised  Product arrived labeled as Jumbo Salted Peanut...  2012-09-07  2012-09-07  2012-09-07  2012          0.0      0             advertised  Product arrived labeled as Jumbo Salted Peanut...  product arrived labeled jumbo salted peanut pe...        31        0"
      ]
     },
     "execution_count": 7,
     "metadata": {},
     "output_type": "execute_result"
    }
   ],
   "source": [
    "df.head(2)"
   ]
  },
  {
   "cell_type": "markdown",
   "metadata": {},
   "source": [
    "## Data Preprocessing"
   ]
  },
  {
   "cell_type": "markdown",
   "metadata": {},
   "source": [
    "+ In this classfication modeling, I want to determine if a given review text is helpful or not. So I created binary encoding to \"1\" helpful, \"0\" not helpful.\n",
    "+ Here I excluded the data that has had less than 5 ratings and excluded reviews made before 2005 due to a rapidly changing business environment. In my opinion, the behavior of customers from 10 years ago may not fit the current business environment."
   ]
  },
  {
   "cell_type": "code",
   "execution_count": 8,
   "metadata": {},
   "outputs": [
    {
     "data": {
      "text/plain": [
       "(67015, 21)"
      ]
     },
     "execution_count": 8,
     "metadata": {},
     "output_type": "execute_result"
    }
   ],
   "source": [
    "final_df= df[(df.HelpfulnessDenominator >= 5) & (df.year>=2005)]\n",
    "final_df.shape"
   ]
  },
  {
   "cell_type": "code",
   "execution_count": 9,
   "metadata": {},
   "outputs": [
    {
     "data": {
      "text/plain": [
       "(67015, 3)"
      ]
     },
     "execution_count": 9,
     "metadata": {},
     "output_type": "execute_result"
    }
   ],
   "source": [
    "# for model# \n",
    "df_model=final_df[['Helpful','text_Clean2','Score']]\n",
    "df_model.shape"
   ]
  },
  {
   "cell_type": "code",
   "execution_count": 10,
   "metadata": {},
   "outputs": [
    {
     "data": {
      "text/plain": [
       "1    0.69004\n",
       "0    0.30996\n",
       "Name: Helpful, dtype: float64"
      ]
     },
     "execution_count": 10,
     "metadata": {},
     "output_type": "execute_result"
    }
   ],
   "source": [
    "# helpful reviews vs helpfulness reviews is 70% vs 30%\n",
    "df_model['Helpful'].value_counts()/len(df_model)"
   ]
  },
  {
   "cell_type": "markdown",
   "metadata": {},
   "source": [
    "**Helpful VS not helpful is 70% VS 30%, it is probably no really need to balance the dataset. And we have enought data so the \"class imbalance problem\" doesn't arise. That's a reason I didn't apply upsampling or downsampling techniques to deal with imbalance data. **"
   ]
  },
  {
   "cell_type": "code",
   "execution_count": 11,
   "metadata": {},
   "outputs": [],
   "source": [
    "# Split files into training and testing sets 80% , 20% \n",
    "from math import floor\n",
    "from sklearn.utils import shuffle\n",
    "# Randomize the files\n",
    "df_random = shuffle(df_model)\n",
    "split = 0.8\n",
    "split_index = floor(len(df_random) * split)\n",
    "training = df_random[:split_index]\n",
    "testing = df_random[split_index:]"
   ]
  },
  {
   "cell_type": "code",
   "execution_count": 12,
   "metadata": {},
   "outputs": [
    {
     "name": "stdout",
     "output_type": "stream",
     "text": [
      "X_train shape: (42889,)\n",
      "y_train shape: (42889,)\n",
      "X_val shape: (10723,)\n",
      "y_val shape: (10723,)\n"
     ]
    }
   ],
   "source": [
    "# create X, y for training and validation\n",
    "X_train, X_val, y_train, y_val= train_test_split(training['text_Clean2'],\n",
    "                                                   training['Helpful'], \n",
    "                                                   test_size=0.2, \n",
    "                                                   random_state=RAN_STATE)\n",
    "print(\"X_train shape: {}\".format(X_train.shape))\n",
    "print(\"y_train shape: {}\".format(y_train.shape))\n",
    "print(\"X_val shape: {}\".format(X_val.shape))\n",
    "print(\"y_val shape: {}\".format(y_val.shape))"
   ]
  },
  {
   "cell_type": "markdown",
   "metadata": {},
   "source": [
    "** Total 67,422  data points for traing modeling**"
   ]
  },
  {
   "cell_type": "markdown",
   "metadata": {},
   "source": [
    "## Model Training : "
   ]
  },
  {
   "cell_type": "markdown",
   "metadata": {},
   "source": [
    "### Algorithms :\n",
    "**Investigate different classfication algorithms: Naive Bayes, Logistic Regression, Random Forest and Ada-boost classifier.**\n",
    "+ **Naive Bayes** : Doesn't need to train prameter to tune. Easy to build up so I applied NB model as a baseline model. \n",
    "+ **Logistic Regression**: Provides probabilities for outcomes. But doesn’t perform well when feature space is too large. \n",
    "+ **SVM**  : Can model complex, nonlinear relationships and work well in the small sample sizes. \n",
    "+ **Decision Tree** : Easy to understand, visualization is very intuitive. It is not influenced by outliers and missing values to a fair degree. It also can handle both numerical and categorical variables.\n",
    "+ **Random Forest** : An ensemble method in which a classifier is constructed by combining several different Independent base classifiers. Perform well on the big dataset. \n",
    "+ **Ada-boost classifier** : It is a boosting algorithm "
   ]
  },
  {
   "cell_type": "code",
   "execution_count": 5,
   "metadata": {},
   "outputs": [],
   "source": [
    "from sklearn.feature_extraction.text import CountVectorizer, TfidfTransformer\n",
    "from sklearn.feature_extraction.text import TfidfVectorizer\n",
    "from sklearn.pipeline import Pipeline\n",
    "from sklearn.utils import shuffle\n",
    "from sklearn.linear_model import SGDClassifier\n",
    "from sklearn import metrics\n",
    "from sklearn.metrics import classification_report\n",
    "from sklearn.model_selection import train_test_split\n",
    "from sklearn.metrics import make_scorer\n",
    "from sklearn.metrics import accuracy_score, precision_score, recall_score\n",
    "from sklearn.metrics import roc_auc_score\n",
    "from sklearn.naive_bayes import GaussianNB\n",
    "from sklearn.linear_model import LogisticRegression\n",
    "from sklearn.ensemble import RandomForestClassifier\n",
    "from sklearn.ensemble import AdaBoostClassifier\n",
    "from sklearn.tree import DecisionTreeClassifier\n",
    "from sklearn.model_selection import GridSearchCV\n",
    "from sklearn.metrics import roc_curve, auc\n",
    "from sklearn.externals import joblib\n",
    "from sklearn.metrics import confusion_matrix"
   ]
  },
  {
   "cell_type": "markdown",
   "metadata": {},
   "source": [
    "### Baseline model : Naive Bayes  "
   ]
  },
  {
   "cell_type": "code",
   "execution_count": 30,
   "metadata": {},
   "outputs": [],
   "source": [
    "count_vect = CountVectorizer(min_df = 0.01, ngram_range = (1, 1))\n",
    "X_train_counts = count_vect.fit_transform(X_train)\n",
    "\n",
    "tfidf_transformer = TfidfTransformer()\n",
    "X_train_tfidf = tfidf_transformer.fit_transform(X_train_counts)\n",
    "\n",
    "X_new_counts = count_vect.transform(X_val)\n",
    "X_val_tfidf = tfidf_transformer.transform(X_new_counts)\n",
    "\n",
    "# y_train_b = training_b[\"Helpful\"]\n",
    "# y_val_b = testing_b[\"Helpful\"]\n",
    "\n",
    "prediction = dict()\n",
    "\n",
    "x_tr = X_train_tfidf.toarray()\n",
    "x_val = X_val_tfidf.toarray()"
   ]
  },
  {
   "cell_type": "code",
   "execution_count": 31,
   "metadata": {},
   "outputs": [
    {
     "name": "stdout",
     "output_type": "stream",
     "text": [
      "Gaussian Naive Bayes\n",
      "Accuracy on the training set: 0.7018349693394577\n",
      "Accuracy on the validation set: 0.6838571295346452\n"
     ]
    }
   ],
   "source": [
    "model_GNB = GaussianNB()\n",
    "model_GNB.fit(x_tr,y_train)\n",
    "train_accuracy = model_GNB.score(x_tr, y_train)\n",
    "val_accuracy = model_GNB.score(x_val, y_val)\n",
    "print('Gaussian Naive Bayes')\n",
    "print('Accuracy on the training set: {}'.format(train_accuracy))\n",
    "print('Accuracy on the validation set: {}'.format(val_accuracy))"
   ]
  },
  {
   "cell_type": "code",
   "execution_count": 32,
   "metadata": {},
   "outputs": [
    {
     "data": {
      "text/plain": [
       "['GNB_clf_est.pkl']"
      ]
     },
     "execution_count": 32,
     "metadata": {},
     "output_type": "execute_result"
    }
   ],
   "source": [
    "joblib.dump(model_GNB,'GNB_clf_est.pkl')"
   ]
  },
  {
   "cell_type": "markdown",
   "metadata": {},
   "source": [
    " ** Notes for diffferent text features**\n",
    " + max_features = n : only considers the top n words orderd by term frequency\n",
    " + min_df = n : ignores words with a document frequency below n\n",
    " + max_df = n : ignores words with a document frequency above n\n",
    " + TF ** IDF = Term Frequency * Inverse Document Frequency \n",
    " + Stop_words =  ignores common words like  'the' ,  'that' ,  'which' , etc. You’ll need to define in a list what words you want to include. There are lists of common stop words available online, the NLTK library also has a list of stop words built into it."
   ]
  },
  {
   "cell_type": "markdown",
   "metadata": {},
   "source": [
    "## Sample pipeline for text feature extraction "
   ]
  },
  {
   "cell_type": "code",
   "execution_count": 17,
   "metadata": {},
   "outputs": [],
   "source": [
    "from sklearn.model_selection import StratifiedKFold\n",
    "n_jobs=-1\n",
    "n_folds=5\n",
    "skfold = StratifiedKFold(n_splits=n_folds,random_state=RAN_STATE, shuffle=False)"
   ]
  },
  {
   "cell_type": "code",
   "execution_count": 18,
   "metadata": {},
   "outputs": [],
   "source": [
    "#construct pipeline\n",
    "pipeline1 = Pipeline([\n",
    "    ('vect', CountVectorizer(stop_words = 'english')),\n",
    "    ('tfidf', TfidfTransformer()),   \n",
    "    ('clf', LogisticRegression(random_state=RAN_STATE))\n",
    "                         ])\n",
    "pipeline2 = Pipeline([\n",
    "    ('vect', CountVectorizer(stop_words = 'english')),\n",
    "    ('tfidf', TfidfTransformer()),   \n",
    "    ('clf', SGDClassifier(loss='hinge',penalty='l2',max_iter=3, random_state=RAN_STATE))\n",
    "                        ])\n",
    "\n",
    "pipeline3 = Pipeline([\n",
    "    ('vect', CountVectorizer(stop_words = 'english')),\n",
    "    ('tfidf', TfidfTransformer()),   \n",
    "    ('clf', DecisionTreeClassifier(random_state=42))\n",
    "                        ])\n",
    "pipeline4 = Pipeline([\n",
    "    ('vect', CountVectorizer(stop_words = 'english')),\n",
    "    ('tfidf', TfidfTransformer()),   \n",
    "    ('clf', RandomForestClassifier(random_state=RAN_STATE))\n",
    "                        ])\n",
    "pipeline5= Pipeline([\n",
    "    ('vect', CountVectorizer(stop_words = 'english')),\n",
    "    ('tfidf', TfidfTransformer()),   \n",
    "    ('clf',  AdaBoostClassifier(random_state=RAN_STATE))\n",
    "                        ])\n",
    "\n",
    "# tune parameter \n",
    "parameters1 = {'vect__ngram_range': [(1, 1),(1, 2),(1, 3)], #unigram, bigram, trigram\n",
    "                   'vect__max_df': (0.25, 0.5, 0.75),\n",
    "                   'clf__C': (np.logspace(-5, 1, 5))}\n",
    "\n",
    "parameters2 = {'vect__ngram_range': [(1, 1), (1, 2),(1, 3)],\n",
    "                   'vect__max_df': (0.25, 0.5, 0.75),  \n",
    "                   'clf__alpha': (1e-2, 1e-3)}\n",
    "\n",
    "parameters3 = {'vect__ngram_range': [(1, 1), (1, 2),(1, 3)],\n",
    "                   'vect__max_df': (0.25, 0.5, 0.75),\n",
    "                   'clf__max_depth': (3, 4, 5)}\n",
    "    \n",
    "parameters4 = {'vect__ngram_range': [(1, 1), (1, 2),(1, 3)],\n",
    "                   'vect__max_df': (0.25, 0.5, 0.75),\n",
    "                   'clf__n_estimators': [300, 500],\n",
    "                   'clf__max_depth': (3, 4, 5)}\n",
    "    \n",
    "parameters5 = {'vect__ngram_range': [(1, 1), (1, 2),(1, 3)],\n",
    "                   'vect__max_df': (0.25, 0.5, 0.75),\n",
    "                   'clf__n_estimators': [300, 500]}    \n",
    "    \n",
    "#  gridsearch for each classfier \n",
    "gs_lr = GridSearchCV(estimator=pipeline1,\n",
    "                     param_grid=parameters1,\n",
    "                     n_jobs=-1,\n",
    "                     scoring = 'accuracy', \n",
    "                     cv = skfold)\n",
    "\n",
    "gs_SVC = GridSearchCV(estimator=pipeline2,\n",
    "                     param_grid=parameters2,\n",
    "                     n_jobs=-1,\n",
    "                     scoring = 'accuracy', \n",
    "                     cv = skfold)\n",
    "\n",
    "gs_DS = GridSearchCV(estimator=pipeline3,\n",
    "                     param_grid=parameters3,\n",
    "                     n_jobs=-1,\n",
    "                     scoring = 'accuracy', \n",
    "                     cv = skfold)\n",
    "\n",
    "gs_RF = GridSearchCV(estimator=pipeline4,\n",
    "                     param_grid=parameters4,\n",
    "                     n_jobs=-1,\n",
    "                     scoring = 'accuracy', \n",
    "                     cv = skfold)\n",
    "\n",
    "gs_Adb = GridSearchCV(estimator=pipeline5,\n",
    "                     param_grid=parameters5,\n",
    "                     n_jobs=-1,\n",
    "                     scoring = 'accuracy', \n",
    "                     cv = skfold)  "
   ]
  },
  {
   "cell_type": "code",
   "execution_count": 19,
   "metadata": {},
   "outputs": [
    {
     "name": "stdout",
     "output_type": "stream",
     "text": [
      "Best params: {'clf__C': 10.0, 'vect__max_df': 0.5, 'vect__ngram_range': (1, 2)}\n"
     ]
    },
    {
     "data": {
      "text/plain": [
       "['logsitc_clf.pkl']"
      ]
     },
     "execution_count": 19,
     "metadata": {},
     "output_type": "execute_result"
    }
   ],
   "source": [
    "gs_lr.fit(X_train,y_train)   \n",
    "# Best params\n",
    "print('Best params: %s' % gs_lr.best_params_)\n",
    "gridsearch_best_estimator_lr = gs_lr.best_estimator_\n",
    "joblib.dump(gridsearch_best_estimator_lr, 'logsitc_clf.pkl') "
   ]
  },
  {
   "cell_type": "code",
   "execution_count": 20,
   "metadata": {},
   "outputs": [
    {
     "name": "stdout",
     "output_type": "stream",
     "text": [
      "Best params: {'clf__alpha': 0.001, 'vect__max_df': 0.25, 'vect__ngram_range': (1, 1)}\n"
     ]
    },
    {
     "data": {
      "text/plain": [
       "['SVM_clf.pkl']"
      ]
     },
     "execution_count": 20,
     "metadata": {},
     "output_type": "execute_result"
    }
   ],
   "source": [
    "gs_SVC.fit(X_train,y_train)\n",
    "print('Best params: %s' % gs_SVC.best_params_)\n",
    "gridsearch_best_estimator_svm = gs_lr.best_estimator_\n",
    "joblib.dump(gridsearch_best_estimator_svm, 'SVM_clf.pkl')"
   ]
  },
  {
   "cell_type": "code",
   "execution_count": 21,
   "metadata": {},
   "outputs": [
    {
     "name": "stdout",
     "output_type": "stream",
     "text": [
      "Best params: {'clf__max_depth': 5, 'clf__n_estimators': 300, 'vect__max_df': 0.25, 'vect__ngram_range': (1, 3)}\n"
     ]
    },
    {
     "data": {
      "text/plain": [
       "['rf_clf.pkl']"
      ]
     },
     "execution_count": 21,
     "metadata": {},
     "output_type": "execute_result"
    }
   ],
   "source": [
    "gs_RF.fit(X_train,y_train)\n",
    "print('Best params: %s' % gs_RF.best_params_)\n",
    "gridsearch_best_estimator_rf = gs_RF.best_estimator_\n",
    "joblib.dump(gridsearch_best_estimator_rf , 'rf_clf.pkl')"
   ]
  },
  {
   "cell_type": "code",
   "execution_count": 22,
   "metadata": {},
   "outputs": [
    {
     "name": "stdout",
     "output_type": "stream",
     "text": [
      "Best params: {'clf__max_depth': 5, 'vect__max_df': 0.25, 'vect__ngram_range': (1, 1)}\n"
     ]
    },
    {
     "data": {
      "text/plain": [
       "['ds_clf.pkl']"
      ]
     },
     "execution_count": 22,
     "metadata": {},
     "output_type": "execute_result"
    }
   ],
   "source": [
    "gs_DS.fit(X_train, y_train)\n",
    "print('Best params: %s' % gs_DS.best_params_)\n",
    "gridsearch_best_estimator_df = gs_DS.best_estimator_\n",
    "joblib.dump(gridsearch_best_estimator_df, 'ds_clf.pkl')"
   ]
  },
  {
   "cell_type": "code",
   "execution_count": 23,
   "metadata": {},
   "outputs": [
    {
     "name": "stdout",
     "output_type": "stream",
     "text": [
      "Best params: {'clf__n_estimators': 500, 'vect__max_df': 0.25, 'vect__ngram_range': (1, 1)}\n"
     ]
    },
    {
     "data": {
      "text/plain": [
       "['adb_clf.pkl']"
      ]
     },
     "execution_count": 23,
     "metadata": {},
     "output_type": "execute_result"
    }
   ],
   "source": [
    "gs_Adb.fit(X_train,y_train)\n",
    "print('Best params: %s' % gs_Adb.best_params_)\n",
    "gridsearch_best_estimator_Adb = gs_Adb.best_estimator_\n",
    "joblib.dump(gridsearch_best_estimator_Adb , 'adb_clf.pkl')"
   ]
  },
  {
   "cell_type": "code",
   "execution_count": 34,
   "metadata": {},
   "outputs": [],
   "source": [
    "gnb_clf_est1=joblib.load('GNB_clf_est.pkl') \n",
    "log_clf_est1=joblib.load('logsitc_clf.pkl')\n",
    "SVM_clf_est1=joblib.load('SVM_clf.pkl')\n",
    "rf_clf_est1=joblib.load('rf_clf.pkl') \n",
    "DS_clf_est1=joblib.load('ds_clf.pkl')\n",
    "adb_clf_est1=joblib.load('adb_clf.pkl')"
   ]
  },
  {
   "cell_type": "code",
   "execution_count": 25,
   "metadata": {},
   "outputs": [],
   "source": [
    "def roc_curve_plot(model, X, y,label=None):\n",
    "    # make sure positive class prediction is in the second column of binary prediction\n",
    "    if label=='Neural Network':\n",
    "        y_score = model.predict_proba(X)[:,0]\n",
    "    else:\n",
    "        y_score = model.predict_proba(X)[:,1]\n",
    "    \n",
    "    # generate ROC curve data\n",
    "    roc = roc_curve(y, y_score)\n",
    "    \n",
    "    plt.plot(roc[0], roc[1], label=label)\n",
    "    plt.plot([0,1],[0,1], 'k--')\n",
    "    plt.axis([0,1,0,1])\n",
    "    plt.xlabel('FPR')\n",
    "    plt.ylabel('TPR')\n",
    "    \n",
    "    roc_score = auc(roc[0],roc[1])\n",
    "    print('AUC score of %s is %.2f.' % (label, roc_score))"
   ]
  },
  {
   "cell_type": "code",
   "execution_count": 35,
   "metadata": {},
   "outputs": [
    {
     "name": "stdout",
     "output_type": "stream",
     "text": [
      "AUC score of Gaussian Naive Bayes is 0.74.\n",
      "AUC score of SVM is 1.00.\n",
      "AUC score of Logistic Regression is 1.00.\n",
      "AUC score of Decision Tree is 0.66.\n",
      "AUC score of Random Forest is 0.81.\n",
      "AUC score of AdaBoost is 0.87.\n"
     ]
    },
    {
     "data": {
      "image/png": "[encoded data removed]",
      "text/plain": [
       "<matplotlib.figure.Figure at 0x1a63241da0>"
      ]
     },
     "metadata": {},
     "output_type": "display_data"
    }
   ],
   "source": [
    "# plot ROC curve for each model on training set\n",
    "roc_curve_plot(gnb_clf_est1, x_tr, y_train, label='Gaussian Naive Bayes')\n",
    "roc_curve_plot(SVM_clf_est1, X_train, y_train, label='SVM')\n",
    "roc_curve_plot(log_clf_est1, X_train, y_train, label='Logistic Regression')\n",
    "roc_curve_plot(DS_clf_est1, X_train, y_train, label='Decision Tree')\n",
    "roc_curve_plot(rf_clf_est1,X_train, y_train, label='Random Forest')\n",
    "roc_curve_plot(adb_clf_est1, X_train, y_train, label='AdaBoost')\n",
    "plt.title('ROC Curves on Training Set')\n",
    "plt.legend(loc='lower right')        \n",
    "plt.show()"
   ]
  },
  {
   "cell_type": "code",
   "execution_count": 36,
   "metadata": {},
   "outputs": [
    {
     "name": "stdout",
     "output_type": "stream",
     "text": [
      "AUC score of Gaussian Naive Bayes is 0.72.\n",
      "AUC score of SVM is 0.89.\n",
      "AUC score of Logistic Regression is 0.89.\n",
      "AUC score of Decision Tree is 0.65.\n",
      "AUC score of Random Forest is 0.77.\n",
      "AUC score of AdaBoost is 0.80.\n"
     ]
    },
    {
     "data": {
      "image/png": "[encoded data removed]",
      "text/plain": [
       "<matplotlib.figure.Figure at 0x1a63241588>"
      ]
     },
     "metadata": {},
     "output_type": "display_data"
    }
   ],
   "source": [
    "# plot ROC curve for each model on validation set\n",
    "roc_curve_plot(gnb_clf_est1, x_val, y_val, label='Gaussian Naive Bayes')\n",
    "roc_curve_plot(SVM_clf_est1,X_val, y_val, label='SVM')\n",
    "roc_curve_plot(log_clf_est1, X_val, y_val, label='Logistic Regression')\n",
    "roc_curve_plot(DS_clf_est1, X_val, y_val, label='Decision Tree')\n",
    "roc_curve_plot(rf_clf_est1,X_val, y_val, label='Random Forest')\n",
    "roc_curve_plot(adb_clf_est1, X_val, y_val, label='AdaBoost')\n",
    "plt.title('ROC Curves on Validation Set')\n",
    "plt.legend(loc='lower right')\n",
    "plt.show()"
   ]
  },
  {
   "cell_type": "markdown",
   "metadata": {},
   "source": [
    "**It seems that Logistic Regression and SVM classifier have the better modeling training result. Logistic Regression is quite a bit faster than all of other algorithms. Although SVM and Logistic regrssion have the same ROC socre, I choose Logistic Regression as the best model. \n",
    "The reasons as follows :**\n",
    "+ Logistic Regression is easy to understand and interpretable. \n",
    "+ Logistic Regression is fast to train. \n",
    "+ It also shows the high accurate rate. "
   ]
  },
  {
   "cell_type": "markdown",
   "metadata": {},
   "source": [
    "## Model Eveulation & Validation:\n",
    "** Matrixs to eveulation :** \n",
    " + **Accuracy** : Classification Rate \n",
    " + **Recall(Sensitivity):**: Recall gives us an idea about when it’s actually helpful, how often does it predict helpful.    \n",
    " + **Precision**: How many of the predicted positive samples are correctly predicted? \n",
    " + **F-score** : (2*Recall*Precision)/(Recall+Presision)\n",
    " + **ROC/AUC **<Br>\n",
    "    \n",
    "**Choice of metric depends on the business goal**<Br>\n",
    "We want to optimize the **\"precision rate\"** because if customers think reviews are helpful and will utilize the reviews more based on the review classification system, it will aid the business by increasing the conversion rate on highly rated products. Additionally, it will avoid bad shopping experiences and decrease product return rate. "
   ]
  },
  {
   "cell_type": "code",
   "execution_count": 352,
   "metadata": {},
   "outputs": [],
   "source": [
    "import itertools\n",
    "from sklearn.model_selection import validation_curve\n",
    "from sklearn.model_selection import learning_curve\n",
    "from sklearn import cross_validation"
   ]
  },
  {
   "cell_type": "code",
   "execution_count": 340,
   "metadata": {},
   "outputs": [
    {
     "name": "stdout",
     "output_type": "stream",
     "text": [
      "             precision    recall  f1-score   support\n",
      "\n",
      "          0       0.81      0.62      0.70      3331\n",
      "          1       0.84      0.94      0.89      7392\n",
      "\n",
      "avg / total       0.84      0.84      0.83     10723\n",
      "\n"
     ]
    }
   ],
   "source": [
    "lr2_pipe = Pipeline([\n",
    "    ('vect', CountVectorizer(stop_words = 'english',max_df= 0.5, ngram_range = (1, 2))),\n",
    "    ('tfidf', TfidfTransformer()),\n",
    "    ('clf', LogisticRegression(C=10)),\n",
    "])\n",
    "\n",
    "lr2_result = lr2_pipe.fit(X_train,y_train)\n",
    "\n",
    "prediction['Logistic_Usefulness'] = lr2_pipe.predict(X_val)\n",
    "print(metrics.classification_report(y_val, prediction['Logistic_Usefulness']))"
   ]
  },
  {
   "cell_type": "code",
   "execution_count": 341,
   "metadata": {},
   "outputs": [],
   "source": [
    "def plot_learning_curve(estimator, title, X, y, ylim=None, cv=None,\n",
    "                        n_jobs=-1, train_sizes=np.linspace(.1, 1.0, 10)):\n",
    " \n",
    "    plt.figure()\n",
    "    plt.title(title)\n",
    "    if ylim is not None:\n",
    "        plt.ylim(*ylim)\n",
    "    plt.xlabel(\"Training samples\")\n",
    "    plt.ylabel(\"Accuracy Score\")\n",
    "    train_sizes, train_scores, test_scores = learning_curve(\n",
    "        estimator, X, y, cv=cv, n_jobs=n_jobs, train_sizes=train_sizes)\n",
    "    train_scores_mean = np.mean(train_scores, axis=1)\n",
    "    train_scores_std = np.std(train_scores, axis=1)\n",
    "    test_scores_mean = np.mean(test_scores, axis=1)\n",
    "    test_scores_std = np.std(test_scores, axis=1)\n",
    "    plt.grid()\n",
    "\n",
    "    plt.fill_between(train_sizes, train_scores_mean - train_scores_std,\n",
    "                     train_scores_mean + train_scores_std, alpha=0.1,\n",
    "                     color=\"r\")\n",
    "    plt.fill_between(train_sizes, test_scores_mean - test_scores_std,\n",
    "                     test_scores_mean + test_scores_std, alpha=0.1, color=\"blue\")\n",
    "    plt.plot(train_sizes, train_scores_mean, 'o-', color=\"r\",\n",
    "             label=\"Training score\")\n",
    "    plt.plot(train_sizes, test_scores_mean, 'o-', color=\"g\",\n",
    "             label=\"Cross-validation score\")\n",
    "\n",
    "    plt.legend(loc=\"best\")\n",
    "    return plt"
   ]
  },
  {
   "cell_type": "code",
   "execution_count": 342,
   "metadata": {},
   "outputs": [
    {
     "name": "stdout",
     "output_type": "stream",
     "text": [
      "CPU times: user 4.6 s, sys: 3.9 s, total: 8.51 s\n",
      "Wall time: 6min 44s\n"
     ]
    },
    {
     "data": {
      "image/png": "[encoded data removed]",
      "text/plain": [
       "<matplotlib.figure.Figure at 0x1abf590198>"
      ]
     },
     "metadata": {},
     "output_type": "display_data"
    }
   ],
   "source": [
    "%time plot_learning_curve(lr2_pipe, \"Learning curves with a logistic regression model\", X_train, y_train, cv=10)\n",
    "plt.show()"
   ]
  },
  {
   "cell_type": "markdown",
   "metadata": {},
   "source": [
    "**The purpose of learning curve is to diagnose bias and variance to reduce error. ** \n",
    "+ Here we can see the training score is still around the maximum and the Cross-validation score increased with more training samples. \n",
    "+ But there still the gap between cross-validation score and training score indicates high variance scenario.\n",
    "+ The solution is either reduce complexity of the model or gather more data."
   ]
  },
  {
   "cell_type": "code",
   "execution_count": 398,
   "metadata": {},
   "outputs": [
    {
     "data": {
      "image/png": "[encoded data removed]",
      "text/plain": [
       "<matplotlib.figure.Figure at 0x1ae50bf518>"
      ]
     },
     "metadata": {},
     "output_type": "display_data"
    }
   ],
   "source": [
    "param_range = np.arange(1, 41, 2)\n",
    "\n",
    "train_scores, test_scores = validation_curve(lr2_pipe,X_train, y_train, param_name=\"clf__C\", param_range=param_range,\n",
    "        cv=10, scoring=\"accuracy\", n_jobs=1)\n",
    "\n",
    "# Calculate mean and standard deviation for training set scores\n",
    "train_mean = np.mean(train_scores, axis=1)\n",
    "train_std = np.std(train_scores, axis=1)\n",
    "\n",
    "# Calculate mean and standard deviation for test set scores\n",
    "test_mean = np.mean(test_scores, axis=1)\n",
    "test_std = np.std(test_scores, axis=1)\n",
    "\n",
    "# Plot mean accuracy scores for training and test sets\n",
    "plt.plot(param_range, train_mean,  'o-',label=\"Training score\", color=\"red\")\n",
    "plt.plot(param_range, test_mean, 'o-',label=\"Cross-validation score\", color=\"blue\")\n",
    "\n",
    "# Plot accurancy bands for training and test sets\n",
    "plt.fill_between(param_range, train_mean - train_std, train_mean + train_std, color=\"r\")\n",
    "plt.fill_between(param_range, test_mean - test_std, test_mean + test_std, color=\"blue\")\n",
    "\n",
    "\n",
    "# Create plot\n",
    "plt.title(\"Validation Curve With a Logistic regression\")\n",
    "plt.xlabel(\"Parameter C\")\n",
    "plt.ylabel(\"Accuracy Score\")\n",
    "plt.ylim((0.0, 1.1))\n",
    "plt.tight_layout()\n",
    "plt.legend(loc=\"best\")\n",
    "plt.show()"
   ]
  },
  {
   "cell_type": "markdown",
   "metadata": {},
   "source": [
    "** The validation curve explores the relationship of learning factor \"C\" parameter to the accuracy score with 10 shuffle split cross-validation.**\n",
    "+ Here the training score is high but the validation score is flat, this validation curve poses a possibility that we do not have the correct param_range to find the best parameter c. "
   ]
  },
  {
   "cell_type": "code",
   "execution_count": 395,
   "metadata": {},
   "outputs": [
    {
     "name": "stdout",
     "output_type": "stream",
     "text": [
      "Confusion matrix, without normalization\n",
      "[[2059 1272]\n",
      " [ 472 6920]]\n",
      "Normalized confusion matrix\n",
      "[[ 0.62  0.38]\n",
      " [ 0.06  0.94]]\n"
     ]
    },
    {
     "data": {
      "image/png": "[encoded data removed]",
      "text/plain": [
       "<matplotlib.figure.Figure at 0x1a781dca20>"
      ]
     },
     "metadata": {},
     "output_type": "display_data"
    },
    {
     "data": {
      "image/png": "[encoded data removed]",
      "text/plain": [
       "<matplotlib.figure.Figure at 0x1b1158c828>"
      ]
     },
     "metadata": {},
     "output_type": "display_data"
    }
   ],
   "source": [
    "def plot_confusion_matrix(cm, \n",
    "                          normalize=False,\n",
    "                          title='Confusion matrix',\n",
    "                          cmap=plt.cm.Blues,\n",
    "                          labels=[\"Useful\", \"Usefulness\"]):\n",
    "    \"\"\"\n",
    "    This function prints and plots the confusion matrix.\n",
    "    Normalization can be applied by setting `normalize=True`.\n",
    "    \"\"\"\n",
    "    if normalize:\n",
    "        cm = cm.astype('float') / cm.sum(axis=1)[:, np.newaxis]\n",
    "        print(\"Normalized confusion matrix\")\n",
    "    else:\n",
    "        print('Confusion matrix, without normalization')\n",
    "\n",
    "    print(cm)\n",
    "\n",
    "    plt.imshow(cm, interpolation='nearest', cmap=cmap)\n",
    "    plt.title(title)\n",
    "    plt.colorbar()\n",
    "    tick_marks = np.arange(len(labels))\n",
    "    plt.xticks(tick_marks, labels, rotation=45)\n",
    "    plt.yticks(tick_marks, labels)\n",
    "\n",
    "    fmt = '.2f' if normalize else 'd'\n",
    "    thresh = cm.max() / 2.\n",
    "    for i, j in itertools.product(range(cm.shape[0]), range(cm.shape[1])):\n",
    "        plt.text(j, i, format(cm[i, j], fmt),\n",
    "                 horizontalalignment=\"center\",\n",
    "                 color=\"white\" if cm[i, j] > thresh else \"black\")\n",
    "\n",
    "    plt.tight_layout()\n",
    "    plt.ylabel('True label')\n",
    "    plt.xlabel('Predicted label')\n",
    "\n",
    "# Compute confusion matrix\n",
    "cnf_matrix  = confusion_matrix(y_val, prediction['Logistic_Usefulness'])\n",
    "np.set_printoptions(precision=2)\n",
    "\n",
    "# Plot non-normalized confusion matrix\n",
    "plt.figure()\n",
    "plot_confusion_matrix(cnf_matrix, \n",
    "                      title='Confusion matrix, without normalization')\n",
    "\n",
    "# Plot normalized confusion matrix\n",
    "plt.figure()\n",
    "plot_confusion_matrix(cnf_matrix, normalize=True,\n",
    "                      title='Normalized confusion matrix')\n",
    "\n",
    "plt.show()"
   ]
  },
  {
   "cell_type": "markdown",
   "metadata": {},
   "source": [
    "## Error Analysis"
   ]
  },
  {
   "cell_type": "code",
   "execution_count": 384,
   "metadata": {},
   "outputs": [],
   "source": [
    "#Best params: {'clf__C': 10.0, 'vect__max_df': 0.5, 'vect__ngram_range': (1, 2)}\n",
    "count_vect = CountVectorizer(stop_words = 'english', max_df= 0.5, ngram_range = (1, 2))\n",
    "X_train_counts = count_vect.fit_transform(X_train)\n",
    "tfidf_transformer = TfidfTransformer()\n",
    "X_train_tfidf = tfidf_transformer.fit_transform(X_train_counts)"
   ]
  },
  {
   "cell_type": "code",
   "execution_count": 385,
   "metadata": {},
   "outputs": [
    {
     "data": {
      "text/plain": [
       "887287"
      ]
     },
     "execution_count": 385,
     "metadata": {},
     "output_type": "execute_result"
    }
   ],
   "source": [
    "len(count_vect.get_feature_names())"
   ]
  },
  {
   "cell_type": "code",
   "execution_count": 386,
   "metadata": {},
   "outputs": [],
   "source": [
    "logreg = LogisticRegression(C=100,penalty='l2',tol=0.0001)\n",
    "logreg_result = logreg.fit(X_train_tfidf, y_train)"
   ]
  },
  {
   "cell_type": "code",
   "execution_count": 387,
   "metadata": {},
   "outputs": [
    {
     "data": {
      "text/html": [
       "<div>\n",
       "<style scoped>\n",
       "    .dataframe tbody tr th:only-of-type {\n",
       "        vertical-align: middle;\n",
       "    }\n",
       "\n",
       "    .dataframe tbody tr th {\n",
       "        vertical-align: top;\n",
       "    }\n",
       "\n",
       "    .dataframe thead th {\n",
       "        text-align: right;\n",
       "    }\n",
       "</style>\n",
       "<table border=\"1\" class=\"dataframe\">\n",
       "  <thead>\n",
       "    <tr style=\"text-align: right;\">\n",
       "      <th></th>\n",
       "      <th>feature</th>\n",
       "      <th>coef</th>\n",
       "    </tr>\n",
       "  </thead>\n",
       "  <tbody>\n",
       "    <tr>\n",
       "      <th>877301</th>\n",
       "      <td>worst</td>\n",
       "      <td>-14.486193</td>\n",
       "    </tr>\n",
       "    <tr>\n",
       "      <th>217384</th>\n",
       "      <td>delicious delicious</td>\n",
       "      <td>-9.342580</td>\n",
       "    </tr>\n",
       "    <tr>\n",
       "      <th>57396</th>\n",
       "      <td>awful</td>\n",
       "      <td>-9.277148</td>\n",
       "    </tr>\n",
       "    <tr>\n",
       "      <th>795430</th>\n",
       "      <td>thought</td>\n",
       "      <td>-9.070434</td>\n",
       "    </tr>\n",
       "    <tr>\n",
       "      <th>351684</th>\n",
       "      <td>gross</td>\n",
       "      <td>-8.426299</td>\n",
       "    </tr>\n",
       "    <tr>\n",
       "      <th>723220</th>\n",
       "      <td>sorry</td>\n",
       "      <td>-8.068448</td>\n",
       "    </tr>\n",
       "    <tr>\n",
       "      <th>561537</th>\n",
       "      <td>passion</td>\n",
       "      <td>-8.008965</td>\n",
       "    </tr>\n",
       "    <tr>\n",
       "      <th>480201</th>\n",
       "      <td>maybe</td>\n",
       "      <td>-7.861484</td>\n",
       "    </tr>\n",
       "    <tr>\n",
       "      <th>688574</th>\n",
       "      <td>sell throw</td>\n",
       "      <td>-7.730784</td>\n",
       "    </tr>\n",
       "    <tr>\n",
       "      <th>584591</th>\n",
       "      <td>poison</td>\n",
       "      <td>-7.493078</td>\n",
       "    </tr>\n",
       "    <tr>\n",
       "      <th>338368</th>\n",
       "      <td>good cat</td>\n",
       "      <td>-7.440787</td>\n",
       "    </tr>\n",
       "    <tr>\n",
       "      <th>781279</th>\n",
       "      <td>tea bag</td>\n",
       "      <td>-7.401064</td>\n",
       "    </tr>\n",
       "    <tr>\n",
       "      <th>663340</th>\n",
       "      <td>rockstar</td>\n",
       "      <td>-7.378827</td>\n",
       "    </tr>\n",
       "    <tr>\n",
       "      <th>225819</th>\n",
       "      <td>diet coke</td>\n",
       "      <td>-7.252706</td>\n",
       "    </tr>\n",
       "    <tr>\n",
       "      <th>781903</th>\n",
       "      <td>tea flavor</td>\n",
       "      <td>-7.233531</td>\n",
       "    </tr>\n",
       "    <tr>\n",
       "      <th>349695</th>\n",
       "      <td>greenies</td>\n",
       "      <td>-7.172336</td>\n",
       "    </tr>\n",
       "    <tr>\n",
       "      <th>18385</th>\n",
       "      <td>acai</td>\n",
       "      <td>-7.146454</td>\n",
       "    </tr>\n",
       "    <tr>\n",
       "      <th>356230</th>\n",
       "      <td>gym</td>\n",
       "      <td>-7.089871</td>\n",
       "    </tr>\n",
       "    <tr>\n",
       "      <th>239984</th>\n",
       "      <td>dont know</td>\n",
       "      <td>-6.952818</td>\n",
       "    </tr>\n",
       "    <tr>\n",
       "      <th>475080</th>\n",
       "      <td>manna</td>\n",
       "      <td>-6.875409</td>\n",
       "    </tr>\n",
       "  </tbody>\n",
       "</table>\n",
       "</div>"
      ],
      "text/plain": [
       "                    feature       coef\n",
       "877301                worst -14.486193\n",
       "217384  delicious delicious  -9.342580\n",
       "57396                 awful  -9.277148\n",
       "795430              thought  -9.070434\n",
       "351684                gross  -8.426299\n",
       "723220                sorry  -8.068448\n",
       "561537              passion  -8.008965\n",
       "480201                maybe  -7.861484\n",
       "688574           sell throw  -7.730784\n",
       "584591               poison  -7.493078\n",
       "338368             good cat  -7.440787\n",
       "781279              tea bag  -7.401064\n",
       "663340             rockstar  -7.378827\n",
       "225819            diet coke  -7.252706\n",
       "781903           tea flavor  -7.233531\n",
       "349695             greenies  -7.172336\n",
       "18385                  acai  -7.146454\n",
       "356230                  gym  -7.089871\n",
       "239984            dont know  -6.952818\n",
       "475080                manna  -6.875409"
      ]
     },
     "execution_count": 387,
     "metadata": {},
     "output_type": "execute_result"
    }
   ],
   "source": [
    "words = count_vect.get_feature_names()\n",
    "feature_coefs = pd.DataFrame(\n",
    "    data = list(zip(words, logreg_result.coef_[0])),\n",
    "    columns = ['feature', 'coef'])\n",
    "\n",
    "feature_coefs.sort_values(by='coef')[0:20]"
   ]
  },
  {
   "cell_type": "code",
   "execution_count": 244,
   "metadata": {},
   "outputs": [
    {
     "data": {
      "text/html": [
       "<div>\n",
       "<style scoped>\n",
       "    .dataframe tbody tr th:only-of-type {\n",
       "        vertical-align: middle;\n",
       "    }\n",
       "\n",
       "    .dataframe tbody tr th {\n",
       "        vertical-align: top;\n",
       "    }\n",
       "\n",
       "    .dataframe thead th {\n",
       "        text-align: right;\n",
       "    }\n",
       "</style>\n",
       "<table border=\"1\" class=\"dataframe\">\n",
       "  <thead>\n",
       "    <tr style=\"text-align: right;\">\n",
       "      <th></th>\n",
       "      <th>feature</th>\n",
       "      <th>coef</th>\n",
       "    </tr>\n",
       "  </thead>\n",
       "  <tbody>\n",
       "    <tr>\n",
       "      <th>107420</th>\n",
       "      <td>brought</td>\n",
       "      <td>8.034265</td>\n",
       "    </tr>\n",
       "    <tr>\n",
       "      <th>574567</th>\n",
       "      <td>picture</td>\n",
       "      <td>8.286701</td>\n",
       "    </tr>\n",
       "    <tr>\n",
       "      <th>464445</th>\n",
       "      <td>loved</td>\n",
       "      <td>8.388570</td>\n",
       "    </tr>\n",
       "    <tr>\n",
       "      <th>36725</th>\n",
       "      <td>amazed</td>\n",
       "      <td>8.440812</td>\n",
       "    </tr>\n",
       "    <tr>\n",
       "      <th>288493</th>\n",
       "      <td>favorite</td>\n",
       "      <td>8.766206</td>\n",
       "    </tr>\n",
       "    <tr>\n",
       "      <th>284504</th>\n",
       "      <td>fantastic</td>\n",
       "      <td>8.838142</td>\n",
       "    </tr>\n",
       "    <tr>\n",
       "      <th>710897</th>\n",
       "      <td>slightly</td>\n",
       "      <td>8.895802</td>\n",
       "    </tr>\n",
       "    <tr>\n",
       "      <th>581543</th>\n",
       "      <td>pleased</td>\n",
       "      <td>9.065369</td>\n",
       "    </tr>\n",
       "    <tr>\n",
       "      <th>373836</th>\n",
       "      <td>highly</td>\n",
       "      <td>9.275263</td>\n",
       "    </tr>\n",
       "    <tr>\n",
       "      <th>843218</th>\n",
       "      <td>ve</td>\n",
       "      <td>9.308090</td>\n",
       "    </tr>\n",
       "    <tr>\n",
       "      <th>360659</th>\n",
       "      <td>happy</td>\n",
       "      <td>9.459071</td>\n",
       "    </tr>\n",
       "    <tr>\n",
       "      <th>57057</th>\n",
       "      <td>awesome</td>\n",
       "      <td>9.495126</td>\n",
       "    </tr>\n",
       "    <tr>\n",
       "      <th>318765</th>\n",
       "      <td>fresh</td>\n",
       "      <td>9.960365</td>\n",
       "    </tr>\n",
       "    <tr>\n",
       "      <th>271366</th>\n",
       "      <td>excellent</td>\n",
       "      <td>10.085437</td>\n",
       "    </tr>\n",
       "    <tr>\n",
       "      <th>881475</th>\n",
       "      <td>year</td>\n",
       "      <td>10.691149</td>\n",
       "    </tr>\n",
       "    <tr>\n",
       "      <th>462516</th>\n",
       "      <td>love</td>\n",
       "      <td>11.186077</td>\n",
       "    </tr>\n",
       "    <tr>\n",
       "      <th>217153</th>\n",
       "      <td>delicious</td>\n",
       "      <td>12.693679</td>\n",
       "    </tr>\n",
       "    <tr>\n",
       "      <th>872441</th>\n",
       "      <td>wonderful</td>\n",
       "      <td>13.655779</td>\n",
       "    </tr>\n",
       "    <tr>\n",
       "      <th>76841</th>\n",
       "      <td>best</td>\n",
       "      <td>15.498683</td>\n",
       "    </tr>\n",
       "  </tbody>\n",
       "</table>\n",
       "</div>"
      ],
      "text/plain": [
       "          feature       coef\n",
       "107420    brought   8.034265\n",
       "574567    picture   8.286701\n",
       "464445      loved   8.388570\n",
       "36725      amazed   8.440812\n",
       "288493   favorite   8.766206\n",
       "284504  fantastic   8.838142\n",
       "710897   slightly   8.895802\n",
       "581543    pleased   9.065369\n",
       "373836     highly   9.275263\n",
       "843218         ve   9.308090\n",
       "360659      happy   9.459071\n",
       "57057     awesome   9.495126\n",
       "318765      fresh   9.960365\n",
       "271366  excellent  10.085437\n",
       "881475       year  10.691149\n",
       "462516       love  11.186077\n",
       "217153  delicious  12.693679\n",
       "872441  wonderful  13.655779\n",
       "76841        best  15.498683"
      ]
     },
     "execution_count": 244,
     "metadata": {},
     "output_type": "execute_result"
    }
   ],
   "source": [
    "words = count_vect.get_feature_names()\n",
    "feature_coefs = pd.DataFrame(\n",
    "    data = list(zip(words, logreg_result.coef_[0])),\n",
    "    columns = ['feature', 'coef'])\n",
    "\n",
    "feature_coefs.sort_values(by='coef')[-20:-1]"
   ]
  },
  {
   "cell_type": "markdown",
   "metadata": {},
   "source": [
    "** Let's check some cases to see if our classifier make sense **"
   ]
  },
  {
   "cell_type": "code",
   "execution_count": 246,
   "metadata": {},
   "outputs": [
    {
     "name": "stdout",
     "output_type": "stream",
     "text": [
      "[1]\n"
     ]
    }
   ],
   "source": [
    "print(model.predict(count_vect.transform([\"My cats have been happily eating Felidae Platinum for more than two years. I just got a new bag and the shape of the food is different. They tried the new food when I first put it in their bowls and now the bowls sit full and the kitties will not touch the food. I've noticed similar reviews related to formula changes in the past. Unfortunately, I now need to find a new food that my cats will eat\"])))"
   ]
  },
  {
   "cell_type": "code",
   "execution_count": 247,
   "metadata": {},
   "outputs": [
    {
     "name": "stdout",
     "output_type": "stream",
     "text": [
      "[1]\n"
     ]
    }
   ],
   "source": [
    "print(model.predict(count_vect.transform([\"I know the product title says Molecular Gastronomy, but don't let that scare you off.  I have been looking for this for a while now, not for food science, but for something more down to earth.  I use it to make my own coffee creamer.<br /><br />I have to have my coffee blonde and sweet - but the flavored creamers are full of the bad kinds of fat, and honestly, I hate to use manufactured food items.  I really don't think they are good for the body.  On the other hand, I hate using cold milk or cream, because I like HOT coffee.<br /><br />I stumbled across this on Amazon one day and got the idea of making my own creamer.  I also bought low-fat (non-instant) milk powder and regular milk powder. The non-instant lowfat milk is a little sweeter and tastes fresher than regular instant low-fat milk, but does not dissolve good in cold water - which is not a problem for hot coffee.  You will have to play with the ratios - I would not do just the heavy cream, it made the coffee too rich. Also, I think the powder is too expensive to just use on it's own. I like mixing 1/3 of each together.<br /><br />For flavoring, I bough cocoa bean powder, vanilla bean powder, and caster (superfine) sugar.  I mix up small batches along with spices like cinnamon and nutmeg to make my own flavored creamers.  If you wanted, you could use a fake sweetner powder instead.  I make up small amounts that I store in jelly canning jars. I also use my little food chopper/food processor to blend everything, so the sugar is not heavier and sinks to the bottom.  Let it settle for a bit before opening the top though.<br /><br />This stuff tastes WAY better than the storebought creamers and it is fun to experiment and come up with your own flavors.  I am going to try using some essential oils next and see if I can get a good chocolate/orange mix.<br /><br />All of the ingredients I mentioned are here online.  Take the time to experiment.  Maybe you don't use any low-fat milk. Or don't add any flavorings.  It is up to you.  Also, would make great housewarming/host(ess) gifts.<br /><br />I am sure other molecular people will be able to tell you more of what you can do with it, and I am sure I will experiment with it in cooking - but the main reason I bought it was to make my own creamer and it worked out great\"])))"
   ]
  },
  {
   "cell_type": "code",
   "execution_count": 253,
   "metadata": {},
   "outputs": [
    {
     "name": "stdout",
     "output_type": "stream",
     "text": [
      "[1]\n"
     ]
    }
   ],
   "source": [
    "print(model.predict(count_vect.transform([\"The SALSA smelled delicious, as I think it probably was but, unfortunately, the person, at AMAZON, that is a packer there is probably several had very little stuffing to work with, especially on the bottoms.  Therefore, the bottoms were broken on all three bottles. As I reached for my computer; I was told NO RETURNS cause it's a food item.  I then looked for a CUSTOMER SERVICE tag; and I found none on their NEW FACE LIFT.  THEY SEEM TO BE PROUD OF THEIR NEW FACE LIFT BUT...THEY SHOULD AT LEAST HAVE A PLACE TO CONTACT THEM IN EMERGENCIES!  LIKE: I BUY A LOT OF STUFF AND IT ALL COMES IN STYROFOAM BOXES.  NEVER WOULD I SHIP THINGS ESPECIALLY SALSA - IN A CARDBOARD BOX WITH JUST A STRIPE OF LARGE BUBBLE WRAP ON IT.  NO MATTER HOW MUCH THE CARRIER FED EX IS CAREFUL, IT'S GOING TO BREAK SOMEWHERE ALONG THE LINE.  ESPECIALLY IN AN ALL GLASS CONTAINER!  BARBARA L. S.\"])))"
   ]
  },
  {
   "cell_type": "code",
   "execution_count": 256,
   "metadata": {},
   "outputs": [
    {
     "name": "stdout",
     "output_type": "stream",
     "text": [
      "[0]\n"
     ]
    }
   ],
   "source": [
    "print(model.predict(count_vect.transform([\"the dog food is gross.\"])))"
   ]
  },
  {
   "cell_type": "code",
   "execution_count": 388,
   "metadata": {},
   "outputs": [
    {
     "name": "stdout",
     "output_type": "stream",
     "text": [
      "[0]\n"
     ]
    }
   ],
   "source": [
    "print(model.predict(count_vect.transform([\"I wish it had better construction but overll not bad.\"])))"
   ]
  },
  {
   "cell_type": "markdown",
   "metadata": {},
   "source": [
    "## Final model and optimization "
   ]
  },
  {
   "cell_type": "markdown",
   "metadata": {},
   "source": [
    "### Version 1: "
   ]
  },
  {
   "cell_type": "code",
   "execution_count": 362,
   "metadata": {},
   "outputs": [],
   "source": [
    "#Best params: {'clf__C': 10.0, 'vect__max_df': 0.5, 'vect__ngram_range': (1, 2)}\n",
    "count_vect = CountVectorizer(stop_words = 'english', max_df= 0.5, ngram_range = (1, 2))\n",
    "X_val_counts = count_vect.fit_transform(X_val)\n",
    "tfidf_transformer = TfidfTransformer()\n",
    "X_val_tfidf = tfidf_transformer.fit_transform(X_val_counts)\n",
    "# y_train =  training['Helpful']"
   ]
  },
  {
   "cell_type": "code",
   "execution_count": 363,
   "metadata": {},
   "outputs": [
    {
     "name": "stdout",
     "output_type": "stream",
     "text": [
      "Accuracy on the validation set: 0.9999720786693542\n",
      "LogisticRegression(C=10, class_weight=None, dual=False, fit_intercept=True,\n",
      "          intercept_scaling=1, max_iter=100, multi_class='ovr', n_jobs=1,\n",
      "          penalty='l2', random_state=None, solver='liblinear', tol=0.0001,\n",
      "          verbose=0, warm_start=False)\n"
     ]
    },
    {
     "data": {
      "text/plain": [
       "['lr_clf_final.pkl']"
      ]
     },
     "execution_count": 363,
     "metadata": {},
     "output_type": "execute_result"
    }
   ],
   "source": [
    "#make the grid search object\n",
    "gs_final = grid_search.GridSearchCV(\n",
    "    estimator=LogisticRegression(),\n",
    "    param_grid={'C': [10**i for i in range(-5,20)], 'class_weight': [None, 'balanced']},\n",
    "    cv=cross_validation.StratifiedKFold(y_val,n_folds=10),\n",
    "    scoring='roc_auc'\n",
    ")\n",
    "\n",
    "gs_final.fit(X_val_tfidf,  y_val)\n",
    "val_accuracy = gs_final.score(X_val_tfidf,  y_val)\n",
    "print('Accuracy on the validation set: {}'.format(val_accuracy))\n",
    "print (gs_final.best_estimator_)\n",
    "\n",
    "gridsearch_best_estimator_lr_f = gs_final.best_estimator_\n",
    "joblib.dump(gridsearch_best_estimator_lr_f,'lr_clf_final.pkl')"
   ]
  },
  {
   "cell_type": "markdown",
   "metadata": {},
   "source": [
    "**Notes** : LogisticRegression Parameters default setting \n",
    "class sklearn.linear_model.LogisticRegression (penalty=’l2’, dual=False, tol=0.0001, C=1.0, fit_intercept=True, intercept_scaling=1, class_weight=None, random_state=None, solver=’liblinear’, max_iter=100, multi_class=’ovr’, verbose=0, warm_start=False, n_jobs=1) "
   ]
  },
  {
   "cell_type": "code",
   "execution_count": 364,
   "metadata": {},
   "outputs": [
    {
     "data": {
      "text/plain": [
       "[mean: 0.66455, std: 0.01184, params: {'C': 1e-05, 'class_weight': None},\n",
       " mean: 0.78632, std: 0.01128, params: {'C': 1e-05, 'class_weight': 'balanced'},\n",
       " mean: 0.67640, std: 0.01144, params: {'C': 0.0001, 'class_weight': None},\n",
       " mean: 0.78634, std: 0.01129, params: {'C': 0.0001, 'class_weight': 'balanced'},\n",
       " mean: 0.73850, std: 0.00795, params: {'C': 0.001, 'class_weight': None},\n",
       " mean: 0.78654, std: 0.01132, params: {'C': 0.001, 'class_weight': 'balanced'},\n",
       " mean: 0.78466, std: 0.01005, params: {'C': 0.01, 'class_weight': None},\n",
       " mean: 0.78816, std: 0.01143, params: {'C': 0.01, 'class_weight': 'balanced'},\n",
       " mean: 0.79803, std: 0.01226, params: {'C': 0.1, 'class_weight': None},\n",
       " mean: 0.79914, std: 0.01233, params: {'C': 0.1, 'class_weight': 'balanced'},\n",
       " mean: 0.82470, std: 0.01482, params: {'C': 1, 'class_weight': None},\n",
       " mean: 0.82608, std: 0.01480, params: {'C': 1, 'class_weight': 'balanced'},\n",
       " mean: 0.83822, std: 0.01537, params: {'C': 10, 'class_weight': None},\n",
       " mean: 0.83817, std: 0.01546, params: {'C': 10, 'class_weight': 'balanced'},\n",
       " mean: 0.83817, std: 0.01501, params: {'C': 100, 'class_weight': None},\n",
       " mean: 0.83814, std: 0.01505, params: {'C': 100, 'class_weight': 'balanced'},\n",
       " mean: 0.83727, std: 0.01451, params: {'C': 1000, 'class_weight': None},\n",
       " mean: 0.83726, std: 0.01454, params: {'C': 1000, 'class_weight': 'balanced'},\n",
       " mean: 0.83682, std: 0.01437, params: {'C': 10000, 'class_weight': None},\n",
       " mean: 0.83662, std: 0.01427, params: {'C': 10000, 'class_weight': 'balanced'},\n",
       " mean: 0.83640, std: 0.01458, params: {'C': 100000, 'class_weight': None},\n",
       " mean: 0.83570, std: 0.01386, params: {'C': 100000, 'class_weight': 'balanced'},\n",
       " mean: 0.83658, std: 0.01424, params: {'C': 1000000, 'class_weight': None},\n",
       " mean: 0.83412, std: 0.01378, params: {'C': 1000000, 'class_weight': 'balanced'},\n",
       " mean: 0.83645, std: 0.01434, params: {'C': 10000000, 'class_weight': None},\n",
       " mean: 0.83360, std: 0.01375, params: {'C': 10000000, 'class_weight': 'balanced'},\n",
       " mean: 0.83651, std: 0.01419, params: {'C': 100000000, 'class_weight': None},\n",
       " mean: 0.83366, std: 0.01377, params: {'C': 100000000, 'class_weight': 'balanced'},\n",
       " mean: 0.83654, std: 0.01427, params: {'C': 1000000000, 'class_weight': None},\n",
       " mean: 0.83364, std: 0.01377, params: {'C': 1000000000, 'class_weight': 'balanced'},\n",
       " mean: 0.83651, std: 0.01400, params: {'C': 10000000000, 'class_weight': None},\n",
       " mean: 0.83363, std: 0.01376, params: {'C': 10000000000, 'class_weight': 'balanced'},\n",
       " mean: 0.83640, std: 0.01414, params: {'C': 100000000000, 'class_weight': None},\n",
       " mean: 0.83355, std: 0.01375, params: {'C': 100000000000, 'class_weight': 'balanced'},\n",
       " mean: 0.83647, std: 0.01443, params: {'C': 1000000000000, 'class_weight': None},\n",
       " mean: 0.83365, std: 0.01375, params: {'C': 1000000000000, 'class_weight': 'balanced'},\n",
       " mean: 0.83634, std: 0.01467, params: {'C': 10000000000000, 'class_weight': None},\n",
       " mean: 0.83362, std: 0.01377, params: {'C': 10000000000000, 'class_weight': 'balanced'},\n",
       " mean: 0.83632, std: 0.01449, params: {'C': 100000000000000, 'class_weight': None},\n",
       " mean: 0.83358, std: 0.01377, params: {'C': 100000000000000, 'class_weight': 'balanced'},\n",
       " mean: 0.83631, std: 0.01439, params: {'C': 1000000000000000, 'class_weight': None},\n",
       " mean: 0.83360, std: 0.01370, params: {'C': 1000000000000000, 'class_weight': 'balanced'},\n",
       " mean: 0.83629, std: 0.01459, params: {'C': 10000000000000000, 'class_weight': None},\n",
       " mean: 0.83359, std: 0.01371, params: {'C': 10000000000000000, 'class_weight': 'balanced'},\n",
       " mean: 0.83657, std: 0.01455, params: {'C': 100000000000000000, 'class_weight': None},\n",
       " mean: 0.83360, std: 0.01375, params: {'C': 100000000000000000, 'class_weight': 'balanced'},\n",
       " mean: 0.83648, std: 0.01455, params: {'C': 1000000000000000000, 'class_weight': None},\n",
       " mean: 0.83361, std: 0.01374, params: {'C': 1000000000000000000, 'class_weight': 'balanced'},\n",
       " mean: 0.83652, std: 0.01419, params: {'C': 10000000000000000000, 'class_weight': None},\n",
       " mean: 0.83356, std: 0.01371, params: {'C': 10000000000000000000, 'class_weight': 'balanced'}]"
      ]
     },
     "execution_count": 364,
     "metadata": {},
     "output_type": "execute_result"
    }
   ],
   "source": [
    "gs_final.grid_scores_"
   ]
  },
  {
   "cell_type": "markdown",
   "metadata": {},
   "source": [
    "### Version 2 : Add min_df"
   ]
  },
  {
   "cell_type": "code",
   "execution_count": 373,
   "metadata": {},
   "outputs": [],
   "source": [
    "#Best params: {'clf__C': 10.0, 'vect__max_df': 0.5, 'vect__ngram_range': (1, 2)}\n",
    "count_vect_n = CountVectorizer(stop_words = 'english', min_df = 0.01, max_df= 0.5, ngram_range = (1, 2))\n",
    "X_val_counts1 = count_vect_n.fit_transform(X_val)\n",
    "tfidf_transformer = TfidfTransformer()\n",
    "X_val_tfidf1 = tfidf_transformer.fit_transform(X_val_counts1)"
   ]
  },
  {
   "cell_type": "code",
   "execution_count": 374,
   "metadata": {},
   "outputs": [
    {
     "name": "stdout",
     "output_type": "stream",
     "text": [
      "Accuracy on the validation set V2: 0.8284431204115609\n",
      "LogisticRegression(C=1, class_weight=None, dual=False, fit_intercept=True,\n",
      "          intercept_scaling=1, max_iter=100, multi_class='ovr', n_jobs=1,\n",
      "          penalty='l2', random_state=None, solver='liblinear', tol=0.0001,\n",
      "          verbose=0, warm_start=False)\n"
     ]
    },
    {
     "data": {
      "text/plain": [
       "['lr_clf_final2.pkl']"
      ]
     },
     "execution_count": 374,
     "metadata": {},
     "output_type": "execute_result"
    }
   ],
   "source": [
    "#make the grid search object\n",
    "gs_final2 = grid_search.GridSearchCV(\n",
    "    estimator=LogisticRegression(),\n",
    "    param_grid={'C': [10**i for i in range(-5,20)], 'class_weight': [None, 'balanced']},\n",
    "    cv=cross_validation.StratifiedKFold(y_val,n_folds=10),\n",
    "    scoring='roc_auc'\n",
    ")\n",
    "\n",
    "gs_final2.fit(X_val_tfidf1,  y_val)\n",
    "val_accuracy1 = gs_final2.score(X_val_tfidf1,  y_val)\n",
    "print('Accuracy on the validation set V2: {}'.format(val_accuracy1))\n",
    "print (gs_final2.best_estimator_)\n",
    "\n",
    "gridsearch_best_estimator_lr_f2 = gs_final2.best_estimator_\n",
    "joblib.dump(gridsearch_best_estimator_lr_f2,'lr_clf_final2.pkl')"
   ]
  },
  {
   "cell_type": "code",
   "execution_count": 375,
   "metadata": {},
   "outputs": [
    {
     "data": {
      "text/plain": [
       "[mean: 0.65875, std: 0.00741, params: {'C': 1e-05, 'class_weight': None},\n",
       " mean: 0.74525, std: 0.01021, params: {'C': 1e-05, 'class_weight': 'balanced'},\n",
       " mean: 0.66881, std: 0.00673, params: {'C': 0.0001, 'class_weight': None},\n",
       " mean: 0.74534, std: 0.01027, params: {'C': 0.0001, 'class_weight': 'balanced'},\n",
       " mean: 0.71867, std: 0.00423, params: {'C': 0.001, 'class_weight': None},\n",
       " mean: 0.74596, std: 0.01042, params: {'C': 0.001, 'class_weight': 'balanced'},\n",
       " mean: 0.75049, std: 0.00911, params: {'C': 0.01, 'class_weight': None},\n",
       " mean: 0.75102, std: 0.01113, params: {'C': 0.01, 'class_weight': 'balanced'},\n",
       " mean: 0.76558, std: 0.01323, params: {'C': 0.1, 'class_weight': None},\n",
       " mean: 0.76604, std: 0.01339, params: {'C': 0.1, 'class_weight': 'balanced'},\n",
       " mean: 0.77128, std: 0.01440, params: {'C': 1, 'class_weight': None},\n",
       " mean: 0.77093, std: 0.01428, params: {'C': 1, 'class_weight': 'balanced'},\n",
       " mean: 0.76115, std: 0.01471, params: {'C': 10, 'class_weight': None},\n",
       " mean: 0.76075, std: 0.01463, params: {'C': 10, 'class_weight': 'balanced'},\n",
       " mean: 0.75708, std: 0.01481, params: {'C': 100, 'class_weight': None},\n",
       " mean: 0.75700, std: 0.01472, params: {'C': 100, 'class_weight': 'balanced'},\n",
       " mean: 0.75653, std: 0.01473, params: {'C': 1000, 'class_weight': None},\n",
       " mean: 0.75654, std: 0.01464, params: {'C': 1000, 'class_weight': 'balanced'},\n",
       " mean: 0.75649, std: 0.01469, params: {'C': 10000, 'class_weight': None},\n",
       " mean: 0.75650, std: 0.01460, params: {'C': 10000, 'class_weight': 'balanced'},\n",
       " mean: 0.75648, std: 0.01470, params: {'C': 100000, 'class_weight': None},\n",
       " mean: 0.75649, std: 0.01458, params: {'C': 100000, 'class_weight': 'balanced'},\n",
       " mean: 0.75647, std: 0.01470, params: {'C': 1000000, 'class_weight': None},\n",
       " mean: 0.75649, std: 0.01458, params: {'C': 1000000, 'class_weight': 'balanced'},\n",
       " mean: 0.75648, std: 0.01469, params: {'C': 10000000, 'class_weight': None},\n",
       " mean: 0.75649, std: 0.01458, params: {'C': 10000000, 'class_weight': 'balanced'},\n",
       " mean: 0.75648, std: 0.01470, params: {'C': 100000000, 'class_weight': None},\n",
       " mean: 0.75649, std: 0.01458, params: {'C': 100000000, 'class_weight': 'balanced'},\n",
       " mean: 0.75648, std: 0.01469, params: {'C': 1000000000, 'class_weight': None},\n",
       " mean: 0.75649, std: 0.01458, params: {'C': 1000000000, 'class_weight': 'balanced'},\n",
       " mean: 0.75648, std: 0.01469, params: {'C': 10000000000, 'class_weight': None},\n",
       " mean: 0.75649, std: 0.01458, params: {'C': 10000000000, 'class_weight': 'balanced'},\n",
       " mean: 0.75648, std: 0.01470, params: {'C': 100000000000, 'class_weight': None},\n",
       " mean: 0.75649, std: 0.01458, params: {'C': 100000000000, 'class_weight': 'balanced'},\n",
       " mean: 0.75648, std: 0.01470, params: {'C': 1000000000000, 'class_weight': None},\n",
       " mean: 0.75649, std: 0.01458, params: {'C': 1000000000000, 'class_weight': 'balanced'},\n",
       " mean: 0.75647, std: 0.01469, params: {'C': 10000000000000, 'class_weight': None},\n",
       " mean: 0.75649, std: 0.01458, params: {'C': 10000000000000, 'class_weight': 'balanced'},\n",
       " mean: 0.75648, std: 0.01470, params: {'C': 100000000000000, 'class_weight': None},\n",
       " mean: 0.75649, std: 0.01458, params: {'C': 100000000000000, 'class_weight': 'balanced'},\n",
       " mean: 0.75648, std: 0.01469, params: {'C': 1000000000000000, 'class_weight': None},\n",
       " mean: 0.75649, std: 0.01458, params: {'C': 1000000000000000, 'class_weight': 'balanced'},\n",
       " mean: 0.75648, std: 0.01469, params: {'C': 10000000000000000, 'class_weight': None},\n",
       " mean: 0.75649, std: 0.01458, params: {'C': 10000000000000000, 'class_weight': 'balanced'},\n",
       " mean: 0.75648, std: 0.01469, params: {'C': 100000000000000000, 'class_weight': None},\n",
       " mean: 0.75649, std: 0.01458, params: {'C': 100000000000000000, 'class_weight': 'balanced'},\n",
       " mean: 0.75647, std: 0.01469, params: {'C': 1000000000000000000, 'class_weight': None},\n",
       " mean: 0.75649, std: 0.01458, params: {'C': 1000000000000000000, 'class_weight': 'balanced'},\n",
       " mean: 0.75648, std: 0.01469, params: {'C': 10000000000000000000, 'class_weight': None},\n",
       " mean: 0.75649, std: 0.01458, params: {'C': 10000000000000000000, 'class_weight': 'balanced'}]"
      ]
     },
     "execution_count": 375,
     "metadata": {},
     "output_type": "execute_result"
    }
   ],
   "source": [
    "gs_final2.grid_scores_"
   ]
  },
  {
   "cell_type": "markdown",
   "metadata": {},
   "source": [
    "+ **I tried to add the min_df (minimum document frequency) to 0.01, meaning that ignore terms that appear in less than 1% of the documents. But add this cartier won't improve the model performance. ** <br>\n",
    "+ ** We can see the our optimized classifier is a LogisticRession with a 'C' parameter of 10 and a 'class_weight' = 'balanced'.**"
   ]
  },
  {
   "cell_type": "markdown",
   "metadata": {},
   "source": [
    "## Final Model "
   ]
  },
  {
   "cell_type": "code",
   "execution_count": 207,
   "metadata": {},
   "outputs": [
    {
     "data": {
      "text/plain": [
       "13403"
      ]
     },
     "execution_count": 207,
     "metadata": {},
     "output_type": "execute_result"
    }
   ],
   "source": [
    "len(testing)"
   ]
  },
  {
   "cell_type": "code",
   "execution_count": 389,
   "metadata": {},
   "outputs": [
    {
     "name": "stdout",
     "output_type": "stream",
     "text": [
      "             precision    recall  f1-score   support\n",
      "\n",
      "          0       0.81      0.62      0.70      4148\n",
      "          1       0.85      0.93      0.89      9255\n",
      "\n",
      "avg / total       0.83      0.84      0.83     13403\n",
      "\n"
     ]
    }
   ],
   "source": [
    "lr_final_pipe = Pipeline([\n",
    "    ('vect', CountVectorizer(stop_words = 'english',max_df= 0.5, ngram_range = (1, 2))),\n",
    "    ('tfidf', TfidfTransformer()),\n",
    "    ('clf', LogisticRegression(C=10,tol=0.0001)),\n",
    "])\n",
    "\n",
    "lr_final_result = lr_final_pipe.fit(X_train,y_train)\n",
    "\n",
    "prediction['Logistic_Usefulness_final'] = lr_final_pipe.predict(X_final_test)\n",
    "print(metrics.classification_report(y_final_test, prediction['Logistic_Usefulness_final']))"
   ]
  },
  {
   "cell_type": "markdown",
   "metadata": {},
   "source": [
    "** The final F1 score is equal to 0.83 and the precision and recall are also very close . It indicates our model has a good balance between sensitivity and specificity. ** "
   ]
  },
  {
   "cell_type": "code",
   "execution_count": 390,
   "metadata": {},
   "outputs": [],
   "source": [
    "joblib.dump(lr_final_pipe,'LR_final.pkl')\n",
    "log_clf_final=joblib.load('LR_final.pkl')"
   ]
  },
  {
   "cell_type": "code",
   "execution_count": 393,
   "metadata": {},
   "outputs": [
    {
     "name": "stdout",
     "output_type": "stream",
     "text": [
      "Average ROC_AUC Score for 1-100 random_state: 0.8890\n"
     ]
    }
   ],
   "source": [
    "random_numbers = range(1,101)\n",
    "tot = 0.0\n",
    "for seed in random_numbers:\n",
    "    lr_final_pipe.fit(X_train,y_train)\n",
    "    probas =lr_final_pipe.predict_proba(X_final_test)\n",
    "    tot += roc_auc_score(y_test, probas[:,1].T)\n",
    "    \n",
    "print ('Average ROC_AUC Score for 1-100 random_state: {:.4f}'.format(tot/100))"
   ]
  },
  {
   "cell_type": "markdown",
   "metadata": {},
   "source": [
    "** The average ROC_AUC score for 100 different random_states is equal to 0.8890, the same as our optimum solution. We can consider this model is robust. **"
   ]
  },
  {
   "cell_type": "code",
   "execution_count": 391,
   "metadata": {},
   "outputs": [
    {
     "name": "stdout",
     "output_type": "stream",
     "text": [
      "AUC score of Logistic Regression is 0.89.\n"
     ]
    },
    {
     "data": {
      "image/png": "[encoded data removed]",
      "text/plain": [
       "<matplotlib.figure.Figure at 0x1aaf143b70>"
      ]
     },
     "metadata": {},
     "output_type": "display_data"
    }
   ],
   "source": [
    "roc_curve_plot(log_clf_final, X_final_test, y_final_test, label='Logistic Regression')\n",
    "plt.title('ROC Curves on testing Set')\n",
    "plt.legend(loc='lower right')\n",
    "plt.show()"
   ]
  },
  {
   "attachments": {},
   "cell_type": "markdown",
   "metadata": {},
   "source": [
    "# Conclusion: \n",
    "+ We observe that the area under the curve(AUC) is equal to 0.89.  \n",
    "+ The result shows that our Logistic Regression model has better performance to distinguish helpful and not helpful reviews. "
   ]
  },
  {
   "cell_type": "markdown",
   "metadata": {},
   "source": [
    "## References : \n",
    "+ http://scikit-learn.org/stable/auto_examples/model_selection/plot_confusion_matrix.html\n",
    "+ http://scikit-learn.org/stable/modules/generated/sklearn.linear_model.LogisticRegression.html\n",
    "+ http://frnsys.com/ai_notes/machine_learning/model_selection.html\n",
    "+ https://www.geeksforgeeks.org/confusion-matrix-machine-learning/\n",
    "+ https://www.analyticsvidhya.com/blog/2018/04/a-comprehensive-guide-to-understand-and-implement-text-classification-in-python/"
   ]
  }
 ],
 "metadata": {
  "kernelspec": {
   "display_name": "Python 3",
   "language": "python",
   "name": "python3"
  },
  "language_info": {
   "codemirror_mode": {
    "name": "ipython",
    "version": 3
   },
   "file_extension": ".py",
   "mimetype": "text/x-python",
   "name": "python",
   "nbconvert_exporter": "python",
   "pygments_lexer": "ipython3",
   "version": "3.6.3"
  }
 },
 "nbformat": 4,
 "nbformat_minor": 2
}
